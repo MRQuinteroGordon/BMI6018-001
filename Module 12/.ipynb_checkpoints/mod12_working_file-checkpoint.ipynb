{
 "cells": [
  {
   "cell_type": "markdown",
   "id": "18b79e34-d315-490f-aa1c-2d65ad7873dc",
   "metadata": {},
   "source": [
    "# Module 12 Visualizations with Python HW\n",
    "### Completed by Michelle Gordon"
   ]
  },
  {
   "cell_type": "code",
   "execution_count": 5,
   "id": "3384fcea-0de5-4556-8e95-dc2f1ea52a93",
   "metadata": {},
   "outputs": [],
   "source": [
    "import pandas as pd\n",
    "import matplotlib.pyplot as plt\n",
    "\n",
    "url = 'https://raw.githubusercontent.com/CSSEGISandData/COVID-19/master/csse_covid_19_data/csse_covid_19_time_series/time_series_covid19_confirmed_US.csv'\n",
    "covid_df = pd.read_csv(url, index_col=0)"
   ]
  },
  {
   "cell_type": "markdown",
   "id": "046e40b4-978f-4c55-adc2-dcc31b7a1c91",
   "metadata": {},
   "source": [
    "## viz 1\n",
    "\n",
    "Create a visualization that shows all of the counties in Utah as a time series,\n",
    "similar to the one shown in slide 22 during the lecture. The graphic should\n",
    "-Show cases over time\n",
    "-Have all counties plotted in a background color (something like grey)\n",
    "-Have a single county plotted in a contrasting color (something not grey)\n",
    "-Have well formatted dates as the X axis\n"
   ]
  },
  {
   "cell_type": "code",
   "execution_count": 103,
   "id": "8b433eb2-241f-4e16-abcb-a251a2dbb0d5",
   "metadata": {},
   "outputs": [
    {
     "ename": "KeyError",
     "evalue": "\"None of ['Date', 'County'] are in the columns\"",
     "output_type": "error",
     "traceback": [
      "\u001b[0;31m---------------------------------------------------------------------------\u001b[0m",
      "\u001b[0;31mKeyError\u001b[0m                                  Traceback (most recent call last)",
      "\u001b[0;32m/var/folders/r2/xrw7ndvn0zv25jc8fvt8r8fw0000gn/T/ipykernel_1471/2414694756.py\u001b[0m in \u001b[0;36m?\u001b[0;34m()\u001b[0m\n\u001b[1;32m     45\u001b[0m \u001b[0;31m# y.head()\u001b[0m\u001b[0;34m\u001b[0m\u001b[0;34m\u001b[0m\u001b[0m\n\u001b[1;32m     46\u001b[0m \u001b[0;31m# plt.plot(x.Date, x.value)\u001b[0m\u001b[0;34m\u001b[0m\u001b[0;34m\u001b[0m\u001b[0m\n\u001b[1;32m     47\u001b[0m \u001b[0;31m# plt.plot(y.Date, y.Beaver)\u001b[0m\u001b[0;34m\u001b[0m\u001b[0;34m\u001b[0m\u001b[0m\n\u001b[1;32m     48\u001b[0m \u001b[0;34m\u001b[0m\u001b[0m\n\u001b[0;32m---> 49\u001b[0;31m \u001b[0my\u001b[0m\u001b[0;34m.\u001b[0m\u001b[0mset_index\u001b[0m\u001b[0;34m(\u001b[0m\u001b[0;34m[\u001b[0m\u001b[0;34m'Date'\u001b[0m\u001b[0;34m,\u001b[0m \u001b[0;34m'County'\u001b[0m\u001b[0;34m]\u001b[0m\u001b[0;34m)\u001b[0m\u001b[0;34m\u001b[0m\u001b[0;34m\u001b[0m\u001b[0m\n\u001b[0m\u001b[1;32m     50\u001b[0m \u001b[0my\u001b[0m\u001b[0;34m.\u001b[0m\u001b[0mindex\u001b[0m\u001b[0;34m\u001b[0m\u001b[0;34m\u001b[0m\u001b[0m\n",
      "\u001b[0;32m/Library/Frameworks/Python.framework/Versions/3.10/lib/python3.10/site-packages/pandas/core/frame.py\u001b[0m in \u001b[0;36m?\u001b[0;34m(self, keys, drop, append, inplace, verify_integrity)\u001b[0m\n\u001b[1;32m   5866\u001b[0m                     \u001b[0;32mif\u001b[0m \u001b[0;32mnot\u001b[0m \u001b[0mfound\u001b[0m\u001b[0;34m:\u001b[0m\u001b[0;34m\u001b[0m\u001b[0;34m\u001b[0m\u001b[0m\n\u001b[1;32m   5867\u001b[0m                         \u001b[0mmissing\u001b[0m\u001b[0;34m.\u001b[0m\u001b[0mappend\u001b[0m\u001b[0;34m(\u001b[0m\u001b[0mcol\u001b[0m\u001b[0;34m)\u001b[0m\u001b[0;34m\u001b[0m\u001b[0;34m\u001b[0m\u001b[0m\n\u001b[1;32m   5868\u001b[0m \u001b[0;34m\u001b[0m\u001b[0m\n\u001b[1;32m   5869\u001b[0m         \u001b[0;32mif\u001b[0m \u001b[0mmissing\u001b[0m\u001b[0;34m:\u001b[0m\u001b[0;34m\u001b[0m\u001b[0;34m\u001b[0m\u001b[0m\n\u001b[0;32m-> 5870\u001b[0;31m             \u001b[0;32mraise\u001b[0m \u001b[0mKeyError\u001b[0m\u001b[0;34m(\u001b[0m\u001b[0;34mf\"None of {missing} are in the columns\"\u001b[0m\u001b[0;34m)\u001b[0m\u001b[0;34m\u001b[0m\u001b[0;34m\u001b[0m\u001b[0m\n\u001b[0m\u001b[1;32m   5871\u001b[0m \u001b[0;34m\u001b[0m\u001b[0m\n\u001b[1;32m   5872\u001b[0m         \u001b[0;32mif\u001b[0m \u001b[0minplace\u001b[0m\u001b[0;34m:\u001b[0m\u001b[0;34m\u001b[0m\u001b[0;34m\u001b[0m\u001b[0m\n\u001b[1;32m   5873\u001b[0m             \u001b[0mframe\u001b[0m \u001b[0;34m=\u001b[0m \u001b[0mself\u001b[0m\u001b[0;34m\u001b[0m\u001b[0;34m\u001b[0m\u001b[0m\n",
      "\u001b[0;31mKeyError\u001b[0m: \"None of ['Date', 'County'] are in the columns\""
     ]
    }
   ],
   "source": [
    "# cols = list(covid_df.columns.values)\n",
    "# fl_vs_ut = covid_df.loc[(covid_df['Province_State'] == \"Florida\") | (covid_df['Province_State'] == \"Utah\")]\n",
    "ut_cases = covid_df.loc[(covid_df['Province_State'] == \"Utah\")]\n",
    "ut_cases = ut_cases.rename(columns={'Admin2': 'County', 'Province_State': 'State', 'Country_Region':'Country'})\n",
    "cols = list(ut_cases.columns.values)\n",
    "cols_dates = cols[10:-1]\n",
    "plot_columns = ['County']\n",
    "for val in cols_dates:\n",
    "    plot_columns.append(val)\n",
    "# plot_columns\n",
    "county_cases = pd.DataFrame(ut_cases, columns=plot_columns)\n",
    "# pvt_cty_cases = county_cases.pivot_table(index='County', columns='dates')\n",
    "# melted = pd.melt(county_cases, id_vars='County', value_vars=cols_dates)\n",
    "x = pd.melt(county_cases, id_vars=['County'], var_name='Date').sort_values(['County', 'Date'])\n",
    "y = x.pivot(index=\"Date\", columns=\"County\", values = \"value\")\n",
    "\n",
    "# https://stackoverflow.com/questions/37430940/python-pandas-converting-column-headers-into-index\n",
    "\n",
    "# for county, group in iris.groupby('county'):\n",
    "#     plt.plot(group['petal_length'], label=species, color=colorMap[species])\n",
    "\n",
    "# axes[1].set_title('Petal Length for Each Species')\n",
    "# axes[1].set_xlabel('Index')\n",
    "# axes[1].set_ylabel('Petal Length')\n",
    "# axes[1].legend()\n",
    "\n",
    "# for species, group in iris.groupby('species'):\n",
    "#     axes[1].plot(group['petal_length'], label=species, color=colorMap[species])\n",
    "\n",
    "# axes[1].set_title('Petal Length for Each Species')\n",
    "# axes[1].set_xlabel('Index')\n",
    "# axes[1].set_ylabel('Petal Length')\n",
    "# axes[1].legend()\n",
    "\n",
    "\n",
    "# ut_cases\n",
    "# county_cases\n",
    "# plt.plot(x, y)\n",
    "# pvt_cty_cases.head()\n",
    "# melted.head()\n",
    "# Plot 2: Line plot of petal length for each species\n",
    "# plt.plot(variable, value)\n",
    "# x = county_cases.set_index([cols_dates], inplace=True)\n",
    "# x.stack()\n",
    "# x\n",
    "# ycols = list(y.columns.values)\n",
    "# ycols\n",
    "# y.head()\n",
    "# plt.plot(x.Date, x.value)\n",
    "# plt.plot(y.Date, y.Beaver)\n",
    "\n",
    "y.set_index(['Date', 'County'])\n",
    "y.index"
   ]
  },
  {
   "cell_type": "markdown",
   "id": "220b9caa-68eb-4ac0-a650-7600e71607c7",
   "metadata": {},
   "source": [
    "## viz 2\n",
    "\n",
    "Create a visualization that shows the contrast between the county in Utah with\n",
    "the most cases to date to a county in Florida with the most cases to date.\n",
    "The graphic should:\n",
    "-Have only two counties plotted\n",
    "-Highlight the difference between the two comparison counties\n",
    "You may use any style of graphic you like as long as it is effective (dense)\n",
    "and readable\n"
   ]
  },
  {
   "cell_type": "code",
   "execution_count": 50,
   "id": "81ca8d7d-69b7-4401-883a-3730c6ce7c4e",
   "metadata": {},
   "outputs": [
    {
     "data": {
      "text/plain": [
       "State    County      \n",
       "Florida  Alachua          89806\n",
       "         Baker            10746\n",
       "         Bay              56189\n",
       "         Bradford          9245\n",
       "         Brevard         175277\n",
       "                          ...  \n",
       "Utah     Wasatch          12214\n",
       "         Washington           0\n",
       "         Wayne                0\n",
       "         Weber                0\n",
       "         Weber-Morgan     89421\n",
       "Name: 3/8/23, Length: 106, dtype: int64"
      ]
     },
     "execution_count": 50,
     "metadata": {},
     "output_type": "execute_result"
    }
   ],
   "source": [
    "# cols = list(covid_df.columns.values)\n",
    "fl_vs_ut = covid_df.loc[(covid_df['Province_State'] == \"Florida\") | (covid_df['Province_State'] == \"Utah\")]\n",
    "# fl_vs_ut = covid_df.loc[(covid_df['Province_State'] == \"Utah\")]\n",
    "fl_vs_ut = fl_vs_ut.rename(columns={'Admin2': 'County', 'Province_State': 'State', 'Country_Region':'Country'})\n",
    "cols = list(fl_vs_ut.columns.values)\n",
    "# fl_vs_ut['Total_Cases'] = fl_vs_ut.sum(axis=1, numeric_only=True)\n",
    "# pd.options.display.float_format = '{:10f}'.format\n",
    "cols_dates = cols[10:-1]\n",
    "cnty_total = fl_vs_ut.groupby([cols[5], cols[4]])[cols_dates[-1]].max()\n",
    "# fl_vs_ut.head(25)\n",
    "# covid_df.head()\n",
    "cnty_total"
   ]
  }
 ],
 "metadata": {
  "kernelspec": {
   "display_name": "Python 3 (ipykernel)",
   "language": "python",
   "name": "python3"
  },
  "language_info": {
   "codemirror_mode": {
    "name": "ipython",
    "version": 3
   },
   "file_extension": ".py",
   "mimetype": "text/x-python",
   "name": "python",
   "nbconvert_exporter": "python",
   "pygments_lexer": "ipython3",
   "version": "3.10.5"
  }
 },
 "nbformat": 4,
 "nbformat_minor": 5
}
