{
 "cells": [
  {
   "cell_type": "markdown",
   "id": "4173bb9b-a1fe-49db-b008-02e0f0f39577",
   "metadata": {},
   "source": [
    "Link to book: \n",
    "[Link](https://learning.oreilly.com/library/view/python-for-data/9781491957653/ch03.html#comprehensions)"
   ]
  },
  {
   "cell_type": "markdown",
   "id": "ae4de3d8-8218-475a-8448-368181a2c4b1",
   "metadata": {},
   "source": [
    "# BMI 6018 Fall 2022 \n",
    "\n",
    "## Instructions: \n",
    "For this assignment, please return all answers as variables in your\n",
    ".py file. You will quickly note that you will need to find answers outside the\n",
    "class lectures. This is not an accident! You will need to become professionally\n",
    "comfortable with looking things up via the python docs and google. \n",
    "\n",
    "Ensure that all variables are labelled according to the example. IE **the answer\n",
    "to problem 1 part c should be labelled one_c.** While all questions are answerable\n",
    "with a single line of code, you are free to use helper variables so long as they\n",
    "are helpfully/informatively named. \n",
    "\n",
    "I should be able to open your .py file and run it without errors. I will **not** be \n",
    "debugging your code for you. If your file does not run, it will **not** be graded. \n",
    "If you are unsure if your file will run, open up a chpc terminal and test it there.\n",
    "\n",
    "For this assignment, please only use base python files types. That is: there \n",
    "should be no import calls in your file save my use of sys at the end.\n",
    "\n",
    "## Example Problem\n",
    "\n",
    "- 0.a Create a list of strings\n",
    "- 0.b Using a str method, capitalize one of the elements in the list using a slice\n",
    "- 0.c Coerce one character of the list to display as a hex\n",
    "\n",
    "`zero_a = ['first','second','third','fourth','fifth']`\n",
    "\n",
    "`zero_b = zero_a[1].upper()`\n",
    "\n",
    "`zero_c = hex(ord(zero_a[1][1]))`"
   ]
  },
  {
   "cell_type": "code",
   "execution_count": 5,
   "id": "d616f54c-02a6-4520-a34d-bb588ec1e868",
   "metadata": {},
   "outputs": [
    {
     "name": "stdout",
     "output_type": "stream",
     "text": [
      "['first', 'second', 'third', 'fourth', 'fifth']\n",
      "SECOND\n",
      "0x65\n"
     ]
    }
   ],
   "source": [
    "zero_a = ['first','second','third','fourth','fifth']\n",
    "zero_b = zero_a[1].upper()\n",
    "zero_c = hex(ord(zero_a[1][1]))\n",
    "\n",
    "print(zero_a)\n",
    "print(zero_b)\n",
    "print(zero_c)"
   ]
  },
  {
   "cell_type": "markdown",
   "id": "577ee3df-4b8d-4ee3-972f-b7656b0e23ce",
   "metadata": {
    "jp-MarkdownHeadingCollapsed": true
   },
   "source": [
    "## Problem 1: Lists, Sets and Coersion\n",
    "\n",
    "- a) Create a list of integers no fewer than 10 items from 0 to 9.\n",
    "- b) Add 3 to the 5th indexed element\n",
    "- c) Coerce all elements in the list to floats using list comprehension\n",
    "- d) Coerce the list to a set\n",
    "- e) Using a method, append int 10 to the set\n",
    "- f) Using a method, pop an item from the set\n",
    "- g) Using a length counting function, count the number of items in the set\n",
    "- h) Check if the number of items in the set is the same as the number of items in the list\n",
    "- i) Coerce the set to a list and use the \"+\" operator combine the list to the list from 1.a\n",
    "- j) Coerce 1.i to a set\n",
    "- k) Count the number of elements in the 1.j"
   ]
  },
  {
   "cell_type": "code",
   "execution_count": 28,
   "id": "fdeac506-2964-44e3-bcc8-609b241c2591",
   "metadata": {},
   "outputs": [
    {
     "name": "stdout",
     "output_type": "stream",
     "text": [
      "1.a:  [0, 1, 2, 3, 4, 8, 6, 7, 8, 9]\n",
      "1.b:  [0, 1, 2, 3, 4, 8, 6, 7, 8, 9]\n",
      "1.c:  [0.0, 1.0, 2.0, 3.0, 4.0, 8.0, 6.0, 7.0, 8.0, 9.0]\n",
      "1.d:  {1.0, 2.0, 3.0, 4.0, 6.0, 7.0, 8.0, 9.0, 10}\n",
      "1.e:  {1.0, 2.0, 3.0, 4.0, 6.0, 7.0, 8.0, 9.0, 10}\n",
      "1.f:  0.0 list is now:  {1.0, 2.0, 3.0, 4.0, 6.0, 7.0, 8.0, 9.0, 10}\n",
      "1.g:  9\n",
      "1.h:  False\n",
      "1.i:  [1.0, 2.0, 3.0, 4.0, 6.0, 7.0, 8.0, 9.0, 10, 0, 1, 2, 3, 4, 8, 6, 7, 8, 9]\n",
      "1.j:  {0, 1.0, 2.0, 3.0, 4.0, 6.0, 7.0, 8.0, 9.0, 10}\n",
      "1.k:  10\n"
     ]
    }
   ],
   "source": [
    "one_a = [x for x in range(10)]\n",
    "new_fifth_element = one_a[5] + 3\n",
    "temp_list = one_a\n",
    "temp_list[5] = new_fifth_element\n",
    "one_b = temp_list\n",
    "one_c = [float(x) for x in one_b]\n",
    "one_d = set(one_c)\n",
    "one_e = one_d\n",
    "one_e.add(10)\n",
    "one_f = one_d.pop()\n",
    "one_g = len(one_d)\n",
    "one_h = (len(one_d) == len(one_a))\n",
    "one_i = (list(one_d) + one_a)\n",
    "one_j = set(one_i)\n",
    "one_k = len(one_j)\n",
    "\n",
    "print(\"1.a: \",one_a)\n",
    "print(\"1.b: \",one_b)\n",
    "print(\"1.c: \",one_c)\n",
    "print(\"1.d: \",one_d)\n",
    "print(\"1.e: \",one_e) \n",
    "print(\"1.f: \",one_f)\n",
    "print(\"1.g: \",one_g)\n",
    "print(\"1.h: \",one_h)\n",
    "print(\"1.i: \",one_i)\n",
    "print(\"1.j: \",one_j)\n",
    "print(\"1.k: \",one_k)"
   ]
  },
  {
   "cell_type": "markdown",
   "id": "3572e90a-f890-4e31-a2ee-635ee2c23dd0",
   "metadata": {
    "jp-MarkdownHeadingCollapsed": true
   },
   "source": [
    "## Problem 2: Dictionary woes\n",
    "\n",
    "-  .a Combine the three sample dictionaries (given below) into a nested dictionary (nested in programming means joined), named two_a, ensure the key names are the same as the dictionary names.\n",
    "-  .b Using keys, retrieve the Dango's name from 2.a\n",
    "-  .c Using keys, update the value of Mochi's year to 2018. This should not be a variable and should simply update 2.a.\n",
    "-  .d Manually create a dictionary that has a single level and contains each patient as the key and the year as the value. Set Mochi's year to 2019.'\n",
    "-  .e Coerce the keys of 2.d into a list\n",
    "-  .f Coerce the values of 2.d into a list\n",
    "-  .g Use the zip function to combine 2.e and 2.f into a dictionary again\n",
    "\n",
    "\n",
    "`two_patient_dictionary_kinoko = {`\n",
    "`  \"name\" : \"Kinoko\",`\n",
    "`  \"year\" : 2021`\n",
    "`}`\n",
    "\n",
    "`two_patient_dictionary_dango = {`\n",
    "`  \"name\" : \"Dango\",`\n",
    "`  \"year\" : 2019`\n",
    "`}`\n",
    "\n",
    "`two_patient_dictionary_mochi  = {`\n",
    "`  \"name\" : \"Mochi\",`\n",
    "`  \"year\" : 2020`\n",
    "`}`\n"
   ]
  },
  {
   "cell_type": "code",
   "execution_count": 59,
   "id": "d8307f67-64a4-49d7-a181-7fc20216ae2a",
   "metadata": {},
   "outputs": [
    {
     "name": "stdout",
     "output_type": "stream",
     "text": [
      "2.a:  {'two_patient_dictionary_kinoko': {'name': 'Kinoko', 'year': 2021}, 'two_patient_dictionary_dango': {'name': 'Dango', 'year': 2019}, 'two_patient_dictionary_mochi': {'name': 'Mochi', 'year': 2018}}\n",
      "2.b:  Dango\n",
      "2.c:  {'two_patient_dictionary_kinoko': {'name': 'Kinoko', 'year': 2021}, 'two_patient_dictionary_dango': {'name': 'Dango', 'year': 2019}, 'two_patient_dictionary_mochi': {'name': 'Mochi', 'year': 2018}}\n",
      "2.d:  {'Kinoko': 2021, 'Dango': 2019, 'Mochi': 2019}\n",
      "2.e:  ['Kinoko', 'Dango', 'Mochi']\n",
      "2.f:  [2021, 2019, 2019]\n",
      "2.g:  {'Kinoko': 2021, 'Dango': 2019, 'Mochi': 2019}\n"
     ]
    }
   ],
   "source": [
    "two_a = {\n",
    "    \"two_patient_dictionary_kinoko\" : {\"name\" : \"Kinoko\",   \"year\" : 2021 },\n",
    "    \"two_patient_dictionary_dango\" :   {\"name\" : \"Dango\",   \"year\" : 2019 },\n",
    "    \"two_patient_dictionary_mochi\" :   {\"name\" : \"Mochi\",   \"year\" : 2020 }\n",
    "}\n",
    "two_b = two_a[\"two_patient_dictionary_dango\"][\"name\"]\n",
    "#2.c is below:\n",
    "two_a[\"two_patient_dictionary_mochi\"][\"year\"] = 2018\n",
    "# two_d = {\"n\":\"y\" for patient in two_a for n,y in (patient[\"name\"],patient[\"year\"])}\n",
    "two_d = {\n",
    "    two_a[\"two_patient_dictionary_kinoko\"][\"name\"] : two_a[\"two_patient_dictionary_kinoko\"][\"year\"],\n",
    "    two_a[\"two_patient_dictionary_dango\"][\"name\"] : two_a[\"two_patient_dictionary_dango\"][\"year\"],\n",
    "    two_a[\"two_patient_dictionary_mochi\"][\"name\"] : 2019\n",
    "}\n",
    "two_e = list(two_d.keys())\n",
    "two_f = list(two_d.values())\n",
    "two_g = dict(zip(two_e, two_f))\n",
    "\n",
    "print(\"2.a: \",two_a)\n",
    "print(\"2.b: \",two_b)\n",
    "print(\"2.c: \",two_a)\n",
    "print(\"2.d: \",two_d)\n",
    "print(\"2.e: \",two_e)\n",
    "print(\"2.f: \",two_f)\n",
    "print(\"2.g: \",two_g)"
   ]
  },
  {
   "cell_type": "markdown",
   "id": "4477deef-41c1-4946-ba11-550bb733a3d9",
   "metadata": {
    "jp-MarkdownHeadingCollapsed": true
   },
   "source": [
    "## Problem 3: Set combinations\n",
    "\n",
    "Given the predefined sets below and using set methods\n",
    "- .a Is set E a subset of set A\n",
    "- .b Is set E a strict subset of set A\n",
    "- .c Create a set that is the intersection of set A and set B\n",
    "- .d Create a set that is the union of sets C, D and E\n",
    "- .e add 9 to the set\n",
    "- .f Using == compare this set to the list in one_a\n",
    "- .g Explain why they are not the same. What would you need to change if you\n",
    "    wanted this to be True?\n",
    " \n",
    "\n",
    "`three_setA = {1,2,3,4,5}`\n",
    "\n",
    "`three_setB = {2,3,4,5,6}`\n",
    "\n",
    "`three_setC = {3,5,7,9}`\n",
    "\n",
    "`three_setD = {2,4,6,8}`\n",
    "\n",
    "`three_setE = {1,2,3,4}`"
   ]
  },
  {
   "cell_type": "code",
   "execution_count": 18,
   "id": "1da0dfeb-7195-4a82-a43b-b15f005df626",
   "metadata": {},
   "outputs": [
    {
     "name": "stdout",
     "output_type": "stream",
     "text": [
      "3.a:  True\n",
      "3.b:  True\n",
      "3.c:  {2, 3, 4, 5}\n",
      "3.d:  {1, 2, 3, 4, 5, 6, 7, 8, 9}\n",
      "3.f:  False\n",
      "3.g:  they are not the same because one_a's list includes 0, which three_d does not have.  I would have to use .add() to add 0 to the set\n"
     ]
    }
   ],
   "source": [
    "setA = {1,2,3,4,5}\n",
    "setB = {2,3,4,5,6}\n",
    "setC = {3,5,7,9}\n",
    "setD = {2,4,6,8}\n",
    "setE = {1,2,3,4}\n",
    "one_a = [x for x in range(10)]\n",
    "\n",
    "three_a = (setE.issubset(setA))\n",
    "# alternate syntax for 3.a: setE <= setA\n",
    "three_b = (setE.issubset(setA)) & (setE != setA)\n",
    "# alternate syntax for 3.b: setE < setA\n",
    "three_c = setA.intersection(setB)\n",
    "# alternate syntax for 3.c: setA & setB\n",
    "three_d = setC | setD | setE\n",
    "#3.e below:\n",
    "three_d.add(9)\n",
    "three_f = (three_d == set1)\n",
    "three_g = \"they are not the same because one_a's list includes 0, which three_d does not have.  I would have to use .add() to add 0 to the set\"\n",
    "\n",
    "\n",
    "print(\"3.a: \", three_a)\n",
    "print(\"3.b: \", three_b)\n",
    "print(\"3.c: \", three_c)\n",
    "print(\"3.d: \", three_d)\n",
    "# print(\"3.e: \", three_e)\n",
    "print(\"3.f: \", three_f)\n",
    "print(\"3.g: \", three_g)\n"
   ]
  },
  {
   "cell_type": "markdown",
   "id": "c520722a-a62d-40ec-b328-b829ebd7becf",
   "metadata": {},
   "source": [
    "## Problem 4: Changing variable types\n",
    "\n",
    "For each step you will modify a variable, then append the type of the variable\n",
    "to a list. Do not recreate the list variable, it should be a running list of \n",
    "types.\n",
    "\n",
    "- .a Create a variable of type int with the value of 8\n",
    "- .b Create an empty list \n",
    "- .c Using type(), add the type of 4.a to this list\n",
    "- .d Add 0.39 to 4.c\n",
    "- .e append the type of 0.39 to the list\n",
    "- .f exponentiate to the -10, ie: 4.d^-10,(hint: there might be an artihmetic operator to do so) round it to no decimal places, and append to list.\n",
    "- .g append the type to the list"
   ]
  },
  {
   "cell_type": "markdown",
   "id": "80f64200-6da3-4db3-ad1b-0a544b9e81e3",
   "metadata": {},
   "source": [
    "## Problem 5: More variable type changes\n",
    "\n",
    "Continue from where you left off in Problem 4.\n",
    "\n",
    "- .a Manually create a dictionary where the values are items in the list from where we left in problem 4, and the keys should be their index in the list. Print the dictionary.\n",
    "- .b Add 300 and coerce it into a string\n",
    "- .c append the type to the list\n",
    "- .d slice the string up to the 2nd element\n",
    "- .e append the type to the list\n",
    "- .f use list comprehension to convert this into a new list of integers\n",
    "- .g append the type to the list\n",
    "- .h append the type of three_setA to the list\n",
    "\n",
    "\n"
   ]
  },
  {
   "cell_type": "code",
   "execution_count": 2,
   "id": "3065dd66-e9f2-4dc5-936a-eefcf05c1719",
   "metadata": {},
   "outputs": [
    {
     "name": "stdout",
     "output_type": "stream",
     "text": [
      "Assignment 3\n"
     ]
    }
   ],
   "source": [
    "#Start your assignment here\n",
    "print(\"Assignment 3\")"
   ]
  }
 ],
 "metadata": {
  "kernelspec": {
   "display_name": "Python 3 (ipykernel)",
   "language": "python",
   "name": "python3"
  },
  "language_info": {
   "codemirror_mode": {
    "name": "ipython",
    "version": 3
   },
   "file_extension": ".py",
   "mimetype": "text/x-python",
   "name": "python",
   "nbconvert_exporter": "python",
   "pygments_lexer": "ipython3",
   "version": "3.10.5"
  }
 },
 "nbformat": 4,
 "nbformat_minor": 5
}
