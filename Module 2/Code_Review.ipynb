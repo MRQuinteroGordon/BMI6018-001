{
 "cells": [
  {
   "cell_type": "markdown",
   "id": "481eb6a4-7d2f-45c7-8da2-d07aa7c670d2",
   "metadata": {},
   "source": [
    "## Question 6 - Strings 2\n",
    "Does string[2]=\"L\" work?"
   ]
  },
  {
   "cell_type": "code",
   "execution_count": 1,
   "id": "4995a9d1-ef32-4ae7-b90a-40b55e269fe1",
   "metadata": {},
   "outputs": [
    {
     "ename": "TypeError",
     "evalue": "'str' object does not support item assignment",
     "output_type": "error",
     "traceback": [
      "\u001b[0;31m---------------------------------------------------------------------------\u001b[0m",
      "\u001b[0;31mTypeError\u001b[0m                                 Traceback (most recent call last)",
      "Cell \u001b[0;32mIn[1], line 3\u001b[0m\n\u001b[1;32m      1\u001b[0m \u001b[38;5;66;03m#create variable to hold string\u001b[39;00m\n\u001b[1;32m      2\u001b[0m string2 \u001b[38;5;241m=\u001b[39m \u001b[38;5;124m\"\u001b[39m\u001b[38;5;124mI Bove python\u001b[39m\u001b[38;5;124m\"\u001b[39m\n\u001b[0;32m----> 3\u001b[0m \u001b[43mstring2\u001b[49m\u001b[43m[\u001b[49m\u001b[38;5;241;43m2\u001b[39;49m\u001b[43m]\u001b[49m \u001b[38;5;241m=\u001b[39m \u001b[38;5;124m\"\u001b[39m\u001b[38;5;124mL\u001b[39m\u001b[38;5;124m\"\u001b[39m\n\u001b[1;32m      4\u001b[0m \u001b[38;5;66;03m#code in the line above won't work because strings are immutable.  \u001b[39;00m\n\u001b[1;32m      5\u001b[0m \u001b[38;5;66;03m#To fix it, you would use the following code to reassign new value to string2: string2 = \"I Love python\"\u001b[39;00m\n",
      "\u001b[0;31mTypeError\u001b[0m: 'str' object does not support item assignment"
     ]
    }
   ],
   "source": [
    "#create variable to hold string\n",
    "string2 = \"I Bove python\"\n",
    "string2[2] = \"L\"\n",
    "#code in the line above won't work because strings are immutable.  \n",
    "#To fix it, you would use the following code to reassign new value to string2: string2 = \"I Love python\""
   ]
  }
 ],
 "metadata": {
  "kernelspec": {
   "display_name": "Python 3 (ipykernel)",
   "language": "python",
   "name": "python3"
  },
  "language_info": {
   "codemirror_mode": {
    "name": "ipython",
    "version": 3
   },
   "file_extension": ".py",
   "mimetype": "text/x-python",
   "name": "python",
   "nbconvert_exporter": "python",
   "pygments_lexer": "ipython3",
   "version": "3.10.5"
  }
 },
 "nbformat": 4,
 "nbformat_minor": 5
}
