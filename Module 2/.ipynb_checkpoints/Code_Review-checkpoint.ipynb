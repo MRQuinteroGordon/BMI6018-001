{
 "cells": [
  {
   "cell_type": "markdown",
   "id": "481eb6a4-7d2f-45c7-8da2-d07aa7c670d2",
   "metadata": {},
   "source": [
    "# Question 6 - Strings 2\n",
    "### Does string[2]=\"L\" work?"
   ]
  },
  {
   "cell_type": "markdown",
   "id": "14981635-78df-41f8-93cc-fe516d7a04ed",
   "metadata": {},
   "source": [
    "*Original Code*"
   ]
  },
  {
   "cell_type": "code",
   "execution_count": 1,
   "id": "4995a9d1-ef32-4ae7-b90a-40b55e269fe1",
   "metadata": {},
   "outputs": [],
   "source": [
    "#create variable to hold string\n",
    "string2 = \"I Bove python\"\n",
    "\n",
    "#fix the typo\n",
    "string2[2] = \"L\"\n",
    "\n",
    "#code in the line above won't work because strings are immutable.  \n"
   ]
  },
  {
   "cell_type": "markdown",
   "id": "224095ad-cc19-4ddd-b7cd-68424430e9e1",
   "metadata": {},
   "source": [
    "*Second Attempt to Fix Spelling:*"
   ]
  },
  {
   "cell_type": "code",
   "execution_count": 2,
   "id": "5c46b243-ad36-47a8-a70a-f27d3d2b56c6",
   "metadata": {},
   "outputs": [
    {
     "name": "stdout",
     "output_type": "stream",
     "text": [
      "I Love Python\n"
     ]
    }
   ],
   "source": [
    "string2 = \"I Bove python\"\n",
    "\n",
    "#assign a new string to replace the old one entirely\n",
    "string2 = \"I Love Python\"\n",
    "print(string2)"
   ]
  },
  {
   "cell_type": "markdown",
   "id": "39c8b706-910c-4616-be33-3b8e56ab8bba",
   "metadata": {},
   "source": [
    "*Another Way to Fix Spelling:*"
   ]
  },
  {
   "cell_type": "code",
   "execution_count": 15,
   "id": "df1535d4-354f-4160-a23e-8b092a7d347c",
   "metadata": {},
   "outputs": [
    {
     "name": "stdout",
     "output_type": "stream",
     "text": [
      "1) list of words: ['I', 'Bove', 'Python']\n",
      "2) Updated spelling of second word: ['I', 'Love', 'Python']\n",
      "3) Corrected string joined back together: I Love Python\n"
     ]
    }
   ],
   "source": [
    "string2 = \"I Bove Python\"\n",
    "\n",
    "#split string into a list of individual words\n",
    "explode = string2.split()\n",
    "print(f\"1) list of words: {explode}\")\n",
    "\n",
    "#update spelling of second word\n",
    "explode[1] = \"Love\"\n",
    "print(f\"2) Updated spelling of second word: {explode}\")\n",
    "\n",
    "#join strings back into one single string, to form a sentence\n",
    "string2 = \" \".join(explode)\n",
    "print(f\"3) Corrected string joined back together: {string2}\")"
   ]
  }
 ],
 "metadata": {
  "kernelspec": {
   "display_name": "Python 3 (ipykernel)",
   "language": "python",
   "name": "python3"
  },
  "language_info": {
   "codemirror_mode": {
    "name": "ipython",
    "version": 3
   },
   "file_extension": ".py",
   "mimetype": "text/x-python",
   "name": "python",
   "nbconvert_exporter": "python",
   "pygments_lexer": "ipython3",
   "version": "3.11.0"
  }
 },
 "nbformat": 4,
 "nbformat_minor": 5
}
