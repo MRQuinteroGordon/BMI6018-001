{
 "cells": [
  {
   "cell_type": "markdown",
   "id": "9ec48fd3-147f-4af5-ad52-ce82d373f8f2",
   "metadata": {},
   "source": [
    "# Assignment: Simple Data Types\n",
    "*Completed by Michelle Gordon*\n",
    "\n",
    "---\n"
   ]
  },
  {
   "cell_type": "markdown",
   "id": "40d7af28-063e-4c9b-bafe-9c07c8feed08",
   "metadata": {},
   "source": [
    "## Instructions: \n",
    "Provide a link with code for the following questions:  \n",
    "*   Question 1 (Booleans)\n",
    "*   Question 2 (Booleans 2)\n",
    "*   Question 5 (Strings)\n",
    "*   Question 6 (Strings 2)\n",
    "*   Question 9 (Operators 2)\n",
    "*   Question 10 (String 3)\n"
   ]
  },
  {
   "cell_type": "markdown",
   "id": "26696476-7faf-4d54-ad1e-796851f09260",
   "metadata": {},
   "source": [
    "**Question 1**"
   ]
  },
  {
   "cell_type": "code",
   "execution_count": 12,
   "id": "bb56bb77-519a-43f2-b6fa-b416e83f2134",
   "metadata": {},
   "outputs": [
    {
     "name": "stdout",
     "output_type": "stream",
     "text": [
      "<class 'bool'> <class 'bool'> <class 'bool'>\n",
      "2\n"
     ]
    }
   ],
   "source": [
    "#create variables to hold boolean values\n",
    "a = True\n",
    "b = True\n",
    "c = False\n",
    "#verify they are boolean values\n",
    "print(type(a), type(b), type(c)) \n",
    "#conduct mathematical operation\n",
    "print(a+b-c)"
   ]
  },
  {
   "cell_type": "markdown",
   "id": "29ebadd8-c3c8-4b2c-944f-3b89730dd80f",
   "metadata": {},
   "source": [
    "**Question 2**"
   ]
  },
  {
   "cell_type": "code",
   "execution_count": 9,
   "id": "3e9049a3-4aa8-4a93-8f1d-d31e531e2c9d",
   "metadata": {},
   "outputs": [
    {
     "name": "stdout",
     "output_type": "stream",
     "text": [
      "1\n"
     ]
    }
   ],
   "source": [
    "#lt stands for logical tracker, but was shortened for ease of typing\n",
    "lt = True\n",
    "lt = lt & lt  #this amounts to True & True, or 1 & 1\n",
    "lt = lt | (lt-lt)    #this amounts to True | (True - True), or 1 | (1 - 1) --> 1 | 0 = True\n",
    "print(lt)"
   ]
  },
  {
   "cell_type": "markdown",
   "id": "d511b611-a0e9-4bc5-8808-c0341eeeff37",
   "metadata": {},
   "source": [
    "**Question 5**"
   ]
  },
  {
   "cell_type": "code",
   "execution_count": 16,
   "id": "e6baf644-4214-493b-8d32-b2b4f2bb063a",
   "metadata": {},
   "outputs": [
    {
     "name": "stdout",
     "output_type": "stream",
     "text": [
      "string[2] is:' '\n"
     ]
    }
   ],
   "source": [
    "#create variable to hold string\n",
    "string = \"E. Coli\"\n",
    "#retrieve character at index 2\n",
    "print(\"string[2] is:'\" + string[2] + \"'\")"
   ]
  },
  {
   "cell_type": "markdown",
   "id": "109ef3f8-5b8e-4747-a68c-0ffaed8e3aa3",
   "metadata": {},
   "source": [
    "**Question 6**"
   ]
  },
  {
   "cell_type": "code",
   "execution_count": 19,
   "id": "e235f30e-9de6-4890-9b94-e81462b18af2",
   "metadata": {},
   "outputs": [],
   "source": [
    "#create variable to hold string\n",
    "string2 = \"I Bove python\"\n",
    "string2[2] = \"L\"\n",
    "#code in the line above won't work because strings are immutable.  \n",
    "#To fix it, you would use the following code to reassign new value to string2: string2 = \"I Love python\""
   ]
  },
  {
   "cell_type": "markdown",
   "id": "1c672ea1-44bb-4a9a-b0c4-1c962076db2c",
   "metadata": {},
   "source": [
    "**Question 7**"
   ]
  },
  {
   "cell_type": "code",
   "execution_count": 21,
   "id": "b8310c5d-8bce-43d3-8f69-cfe967542947",
   "metadata": {},
   "outputs": [
    {
     "name": "stdout",
     "output_type": "stream",
     "text": [
      "<class 'int'>\n"
     ]
    }
   ],
   "source": [
    "#create variable to hold number of medications\n",
    "medication = 5\n",
    "#print the datatype of the medication variable\n",
    "print(type(medication))"
   ]
  },
  {
   "cell_type": "markdown",
   "id": "d9efa67b-a264-4fa6-82ec-e37e1b73a144",
   "metadata": {},
   "source": [
    "**Question 8**"
   ]
  },
  {
   "cell_type": "code",
   "execution_count": null,
   "id": "4169a0b9-4256-4038-b669-61bc414809d1",
   "metadata": {},
   "outputs": [],
   "source": []
  }
 ],
 "metadata": {
  "kernelspec": {
   "display_name": "Python 3 (ipykernel)",
   "language": "python",
   "name": "python3"
  },
  "language_info": {
   "codemirror_mode": {
    "name": "ipython",
    "version": 3
   },
   "file_extension": ".py",
   "mimetype": "text/x-python",
   "name": "python",
   "nbconvert_exporter": "python",
   "pygments_lexer": "ipython3",
   "version": "3.10.5"
  }
 },
 "nbformat": 4,
 "nbformat_minor": 5
}
