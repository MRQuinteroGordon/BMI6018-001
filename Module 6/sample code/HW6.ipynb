{
 "cells": [
  {
   "cell_type": "markdown",
   "id": "c135e42b-8233-497c-8f17-96b8adebf084",
   "metadata": {},
   "source": [
    "\n",
    "# the humble print statement\n",
    "\n",
    "## 1.a\n",
    "Using the print() function only, get the wrong_add_function to print out where\n",
    "it is making a mistake, given the expected output for ex, \"we are making an error \n",
    "in the loop\", which you would put near the loop. \n",
    "Structure the print() statement to show what the expected output ought to be\n",
    "via f-strings: ie \"The correct answer is supposed to be: [...]\"."
   ]
  },
  {
   "cell_type": "code",
   "execution_count": null,
   "id": "8c839d39-f480-42d9-a2c4-6b3c6a0168bf",
   "metadata": {},
   "outputs": [
    {
     "name": "stdout",
     "output_type": "stream",
     "text": [
      "We are making an error in this for loop:\n",
      "arg2 sum = 6, but the correct answer is supposed to be 2\n",
      "arg2 sum = 6, but the correct answer is supposed to be 2\n",
      "arg2 sum = 6, but the correct answer is supposed to be 2\n",
      "current index:  0 current arg1 item:  1\n",
      "We are making an error in this for loop:\n",
      "arg2 sum = 9, but the correct answer is supposed to be 3\n",
      "arg2 sum = 9, but the correct answer is supposed to be 3\n",
      "arg2 sum = 9, but the correct answer is supposed to be 3\n",
      "current index:  1 current arg1 item:  2\n",
      "We are making an error in this for loop:\n",
      "arg2 sum = 12, but the correct answer is supposed to be 4\n",
      "arg2 sum = 12, but the correct answer is supposed to be 4\n",
      "arg2 sum = 12, but the correct answer is supposed to be 4\n",
      "current index:  2 current arg1 item:  3\n"
     ]
    },
    {
     "data": {
      "text/plain": [
       "[6, 9, 12]"
      ]
     },
     "execution_count": 8,
     "metadata": {},
     "output_type": "execute_result"
    }
   ],
   "source": [
    "def wrong_add_function(arg1,arg2):\n",
    "    '''\n",
    "   The function takes in two lists of integers, then it adds\n",
    "   all of arg2 to each item of arg1.\n",
    "   \n",
    "   Example:\n",
    "      > wrong_add_function([1,2,3],[1,1,1])\n",
    "      > [6,9,12]\n",
    "\n",
    "   whereas the expected correct answer is, [2,3,4]\n",
    "\n",
    "   Parameters\n",
    "   ----------\n",
    "   arg1 : list\n",
    "      list of integers.\n",
    "   arg2 : list\n",
    "      list of integers.\n",
    "\n",
    "   Returns\n",
    "   -------\n",
    "   arg1 : list\n",
    "      Elements of arg1, with each element having had the contents of \n",
    "      arg2 added to it.\n",
    "\n",
    "   '''\n",
    "    arg1_index=0\n",
    "    while arg1_index < len(arg1):\n",
    "        arg_2_sum = 0\n",
    "      #   print(\"We are making an error in this for loop:\")\n",
    "        for arg2_elements in arg2:\n",
    "            print(\"We are making an error in this for loop:\")\n",
    "            arg_2_sum = sum([arg1[arg1_index]+i for i in arg2])\n",
    "            print(f\"arg2 sum = {arg_2_sum}, but the correct answer is supposed to be {arg1[arg1_index] + arg2[arg1_index]}\")\n",
    "        print(\"current index: \", arg1_index, \"current arg1 item: \", arg1[arg1_index])\n",
    "        arg1[arg1_index]=arg_2_sum  \n",
    "        arg1_index+=1\n",
    "    return arg1\n",
    "\n",
    "arg1 = [1,2,3]\n",
    "arg2 = [1,1,1]\n",
    "\n",
    "wrong_add_function(arg1, arg2)"
   ]
  },
  {
   "cell_type": "markdown",
   "id": "a7b2b0ad-bb6f-4c90-bea4-14a8a9a15018",
   "metadata": {},
   "source": [
    "## 1.b\n",
    "Then, changing as little as possible, modify the function, using the same \n",
    "general structure to output the correct answer. Call this new function \n",
    "correct_add_function() "
   ]
  },
  {
   "cell_type": "code",
   "execution_count": null,
   "id": "bfc1e771-1495-4cbf-9e56-b5cf1bb78b9b",
   "metadata": {},
   "outputs": [
    {
     "name": "stdout",
     "output_type": "stream",
     "text": [
      "current index is: 0\n",
      "arg2 sum = 2, and the correct answer is supposed to be 2\n",
      "current index: 0, current arg1 item: 1\n",
      "current arg1 item is now: 2\n",
      "\n",
      "current index is: 1\n",
      "arg2 sum = 3, and the correct answer is supposed to be 3\n",
      "current index: 1, current arg1 item: 2\n",
      "current arg1 item is now: 3\n",
      "\n",
      "current index is: 2\n",
      "arg2 sum = 4, and the correct answer is supposed to be 4\n",
      "current index: 2, current arg1 item: 3\n",
      "current arg1 item is now: 4\n",
      "\n"
     ]
    },
    {
     "data": {
      "text/plain": [
       "[2, 3, 4]"
      ]
     },
     "execution_count": 17,
     "metadata": {},
     "output_type": "execute_result"
    }
   ],
   "source": [
    "def correct_add_function(arg1,arg2):\n",
    "    arg1_index=0\n",
    "    while arg1_index < len(arg1):\n",
    "        print(f\"current index is: {arg1_index}\")\n",
    "        arg_2_sum = 0\n",
    "        arg_2_sum = arg1[arg1_index] + arg2[arg1_index]\n",
    "        print(f\"arg2 sum = {arg_2_sum}, and the correct answer is supposed to be {arg1[arg1_index] + arg2[arg1_index]}\")\n",
    "        print(f\"current index: {arg1_index}, current arg1 item: {arg1[arg1_index]}\")\n",
    "        arg1[arg1_index]=arg_2_sum  \n",
    "        print(f\"current arg1 item is now: {arg1[arg1_index]}\\n\")\n",
    "        arg1_index+=1\n",
    "    return arg1\n",
    "\n",
    "arg1 = [1,2,3]\n",
    "arg2 = [1,1,1]\n",
    "\n",
    "correct_add_function(arg1, arg2)"
   ]
  },
  {
   "cell_type": "markdown",
   "id": "69d6bf84-faf8-466a-989c-9b769edc1179",
   "metadata": {},
   "source": [
    "# try, except\n",
    "\n",
    "## 2.a\n",
    "Update the numeric section of the function with your changes from 1 for both \n",
    "2.b and 2.c"
   ]
  },
  {
   "cell_type": "code",
   "execution_count": null,
   "id": "26e0521e-4565-412e-8ebb-5cdd6a9fc0e7",
   "metadata": {},
   "outputs": [],
   "source": [
    "def wrong_add_function(arg1,arg2):\n",
    "   '''\n",
    "   The function takes in two lists of integers, then it adds\n",
    "   all of arg2 to each item of arg1.\n",
    "   \n",
    "   Example:\n",
    "      > wrong_add_function([1,2,3],[1,1,1])\n",
    "      > [4,5,6]\n",
    "   \n",
    "   If the lists are lists of strings, concatenate them\n",
    "   Example:\n",
    "      > wrong_add_function(['1','2','3'],['1','1','1'])\n",
    "      > ['1111','2111','3111']\n",
    "   Parameters\n",
    "   ----------\n",
    "   arg1 : list\n",
    "      list of integers.\n",
    "   arg2 : list\n",
    "      list of integers.\n",
    "\n",
    "   Returns\n",
    "   -------\n",
    "   arg1 : list\n",
    "      Elements of arg1, with each element having had the contents of \n",
    "      arg2 added to it.\n",
    "\n",
    "   '''\n",
    "   #numeric section\n",
    "   if sum([type(i)==int for i in arg1])==len(arg1) and \\\n",
    "      sum([type(i)==int for i in arg2])==len(arg2):\n",
    "         arg1_index=0\n",
    "         while arg1_index < len(arg1):\n",
    "            arg_2_sum = 0\n",
    "            for arg2_elements in arg2:\n",
    "                arg_2_sum = arg1[arg1_index] + arg2_elements\n",
    "                arg1[arg1_index]=arg_2_sum  \n",
    "            arg1_index+=1\n",
    "         return arg1\n",
    "   #string section\n",
    "   elif sum([type(i)==str for i in arg1])==len(arg1) and \\\n",
    "      sum([type(i)==str for i in arg2])==len(arg2):\n",
    "         arg1_index=0\n",
    "         while arg1_index < len(arg1):\n",
    "            arg_2_sum = ''\n",
    "            for arg2_elements in arg2:\n",
    "               arg_2_sum += arg2_elements\n",
    "            arg1[arg1_index]=arg1[arg1_index]+str(arg_2_sum)\n",
    "            arg1_index+=1\n",
    "         return arg1\n",
    "arg_str_1=['1','2','3']\n",
    "arg_str_2=['1','1', 1]\n",
    "\n",
    "wrong_add_function(arg_str_1,arg_str_2)\n",
    "# wrong_add_function([1,2,3], [1,1,1])"
   ]
  },
  {
   "cell_type": "markdown",
   "id": "a3bfa121-5239-4682-94d8-0f07cab83372",
   "metadata": {},
   "source": [
    "## 2.b\n",
    "Without modifying the string section code itself or the input directly, \n",
    "write a try, except block that catches the issue with the input below and \n",
    "returns an error message to the user, in case users give invalid inputs,\n",
    "(for example an input of [\"5\",\"2\", 5])\n",
    ": \"Your input argument [1 or 2] at element [n]\n",
    "is not of the expected type. Please change this and rerun. Name this function \n",
    "exception_add_function()\n",
    "\n",
    "## 2.c\n",
    "Without modifying the string section code itself or the input directly, \n",
    "write a try, except block that catches the issue with the input below and \n",
    "gets it to process via the string section. IE, do not, outside the function,\n",
    "change the values of arg_str_1 or arg_str_2. Name this function \n",
    "correction_add_function(), i.e you will not be updating the wrong_add_function,\n",
    "you will simply handle the error of wrong inputs in a seperate function, you want\n",
    "the wrong_add_function to output its current result you are only bolstering the \n",
    "function for edge cases ."
   ]
  },
  {
   "cell_type": "code",
   "execution_count": null,
   "id": "e756eee2-dce8-4da5-a9fa-4387d6cdfb53",
   "metadata": {},
   "outputs": [],
   "source": []
  }
 ],
 "metadata": {
  "kernelspec": {
   "display_name": "Python 3 (ipykernel)",
   "language": "python",
   "name": "python3"
  },
  "language_info": {
   "codemirror_mode": {
    "name": "ipython",
    "version": 3
   },
   "file_extension": ".py",
   "mimetype": "text/x-python",
   "name": "python",
   "nbconvert_exporter": "python",
   "pygments_lexer": "ipython3",
   "version": "3.10.5"
  }
 },
 "nbformat": 4,
 "nbformat_minor": 5
}
